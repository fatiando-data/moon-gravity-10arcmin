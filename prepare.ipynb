{
 "cells": [
  {
   "cell_type": "markdown",
   "id": "385d21fd-6f63-41d8-8633-79721f90fe8d",
   "metadata": {},
   "source": [
    "# CHANGEME: Location - Data type\n",
    "\n",
    "CHANGEME: A few sentences about the data and links to the original data providers.\n",
    "\n",
    "**Source:** CHANGEME\n",
    "\n",
    "**License:** CHANGEME (include a link to where the license is stated if possible)\n",
    "\n",
    "## Notes\n",
    "\n",
    "CHANGEME: Any relevant notes about this dataset, such as data format, original coordinate systems, or anything else that's relevant."
   ]
  },
  {
   "cell_type": "code",
   "execution_count": 1,
   "id": "34fa5814-2463-44eb-97a1-9aa57670e3df",
   "metadata": {},
   "outputs": [],
   "source": [
    "import os\n",
    "import matplotlib.pyplot as plt\n",
    "import numpy as np\n",
    "import pandas as pd\n",
    "import verde as vd\n",
    "import pooch"
   ]
  },
  {
   "cell_type": "markdown",
   "id": "15c63575-49cf-4503-86fe-abd6f455f552",
   "metadata": {},
   "source": [
    "## Download the data\n",
    "\n",
    "Use [Pooch](https://github.com/fatiando/pooch) to download the original data file to our computer."
   ]
  },
  {
   "cell_type": "code",
   "execution_count": 2,
   "id": "50ee303e-927d-4ba8-8d3e-e3c8849505ec",
   "metadata": {},
   "outputs": [
    {
     "name": "stdout",
     "output_type": "stream",
     "text": [
      "size: 0.056427 Mb\n"
     ]
    }
   ],
   "source": [
    "fname = pooch.retrieve(\n",
    "    url=\"https://gml.noaa.gov/webdata/ccgg/trends/co2/co2_mm_mlo.txt\",\n",
    "    known_hash=\"sha256:01b7df0113305e207c25df77e98ee9bd4477d0ba127b9b78594dd720f5f973ed\",\n",
    ")\n",
    "print(f\"size: {os.path.getsize(fname) / 1e6} Mb\")"
   ]
  },
  {
   "cell_type": "markdown",
   "id": "86ca37f7-c83c-4741-941b-27c29f6d70f8",
   "metadata": {},
   "source": [
    "## Read the data\n",
    "\n",
    "Use pandas to read the data."
   ]
  },
  {
   "cell_type": "code",
   "execution_count": 3,
   "id": "6bbd81fa-0f94-46e0-b458-a324295b6e2b",
   "metadata": {},
   "outputs": [
    {
     "data": {
      "text/html": [
       "<div>\n",
       "<style scoped>\n",
       "    .dataframe tbody tr th:only-of-type {\n",
       "        vertical-align: middle;\n",
       "    }\n",
       "\n",
       "    .dataframe tbody tr th {\n",
       "        vertical-align: top;\n",
       "    }\n",
       "\n",
       "    .dataframe thead th {\n",
       "        text-align: right;\n",
       "    }\n",
       "</style>\n",
       "<table border=\"1\" class=\"dataframe\">\n",
       "  <thead>\n",
       "    <tr style=\"text-align: right;\">\n",
       "      <th></th>\n",
       "      <th>year</th>\n",
       "      <th>month</th>\n",
       "      <th>year_decimal</th>\n",
       "      <th>monthly_average</th>\n",
       "      <th>deseasonalized</th>\n",
       "      <th>number_of_days</th>\n",
       "      <th>std</th>\n",
       "      <th>uncertainty</th>\n",
       "    </tr>\n",
       "  </thead>\n",
       "  <tbody>\n",
       "    <tr>\n",
       "      <th>0</th>\n",
       "      <td>1958</td>\n",
       "      <td>3</td>\n",
       "      <td>1958.2027</td>\n",
       "      <td>315.70</td>\n",
       "      <td>314.43</td>\n",
       "      <td>-1</td>\n",
       "      <td>-9.99</td>\n",
       "      <td>-0.99</td>\n",
       "    </tr>\n",
       "    <tr>\n",
       "      <th>1</th>\n",
       "      <td>1958</td>\n",
       "      <td>4</td>\n",
       "      <td>1958.2877</td>\n",
       "      <td>317.45</td>\n",
       "      <td>315.16</td>\n",
       "      <td>-1</td>\n",
       "      <td>-9.99</td>\n",
       "      <td>-0.99</td>\n",
       "    </tr>\n",
       "    <tr>\n",
       "      <th>2</th>\n",
       "      <td>1958</td>\n",
       "      <td>5</td>\n",
       "      <td>1958.3699</td>\n",
       "      <td>317.51</td>\n",
       "      <td>314.71</td>\n",
       "      <td>-1</td>\n",
       "      <td>-9.99</td>\n",
       "      <td>-0.99</td>\n",
       "    </tr>\n",
       "    <tr>\n",
       "      <th>3</th>\n",
       "      <td>1958</td>\n",
       "      <td>6</td>\n",
       "      <td>1958.4548</td>\n",
       "      <td>317.24</td>\n",
       "      <td>315.14</td>\n",
       "      <td>-1</td>\n",
       "      <td>-9.99</td>\n",
       "      <td>-0.99</td>\n",
       "    </tr>\n",
       "    <tr>\n",
       "      <th>4</th>\n",
       "      <td>1958</td>\n",
       "      <td>7</td>\n",
       "      <td>1958.5370</td>\n",
       "      <td>315.86</td>\n",
       "      <td>315.18</td>\n",
       "      <td>-1</td>\n",
       "      <td>-9.99</td>\n",
       "      <td>-0.99</td>\n",
       "    </tr>\n",
       "    <tr>\n",
       "      <th>...</th>\n",
       "      <td>...</td>\n",
       "      <td>...</td>\n",
       "      <td>...</td>\n",
       "      <td>...</td>\n",
       "      <td>...</td>\n",
       "      <td>...</td>\n",
       "      <td>...</td>\n",
       "      <td>...</td>\n",
       "    </tr>\n",
       "    <tr>\n",
       "      <th>761</th>\n",
       "      <td>2021</td>\n",
       "      <td>8</td>\n",
       "      <td>2021.6250</td>\n",
       "      <td>414.47</td>\n",
       "      <td>416.49</td>\n",
       "      <td>26</td>\n",
       "      <td>0.72</td>\n",
       "      <td>0.27</td>\n",
       "    </tr>\n",
       "    <tr>\n",
       "      <th>762</th>\n",
       "      <td>2021</td>\n",
       "      <td>9</td>\n",
       "      <td>2021.7083</td>\n",
       "      <td>413.30</td>\n",
       "      <td>416.90</td>\n",
       "      <td>27</td>\n",
       "      <td>0.29</td>\n",
       "      <td>0.11</td>\n",
       "    </tr>\n",
       "    <tr>\n",
       "      <th>763</th>\n",
       "      <td>2021</td>\n",
       "      <td>10</td>\n",
       "      <td>2021.7917</td>\n",
       "      <td>413.93</td>\n",
       "      <td>417.31</td>\n",
       "      <td>29</td>\n",
       "      <td>0.35</td>\n",
       "      <td>0.12</td>\n",
       "    </tr>\n",
       "    <tr>\n",
       "      <th>764</th>\n",
       "      <td>2021</td>\n",
       "      <td>11</td>\n",
       "      <td>2021.8750</td>\n",
       "      <td>415.01</td>\n",
       "      <td>417.06</td>\n",
       "      <td>30</td>\n",
       "      <td>0.36</td>\n",
       "      <td>0.13</td>\n",
       "    </tr>\n",
       "    <tr>\n",
       "      <th>765</th>\n",
       "      <td>2021</td>\n",
       "      <td>12</td>\n",
       "      <td>2021.9583</td>\n",
       "      <td>416.71</td>\n",
       "      <td>417.41</td>\n",
       "      <td>28</td>\n",
       "      <td>0.49</td>\n",
       "      <td>0.18</td>\n",
       "    </tr>\n",
       "  </tbody>\n",
       "</table>\n",
       "<p>766 rows × 8 columns</p>\n",
       "</div>"
      ],
      "text/plain": [
       "     year  month  year_decimal  monthly_average  deseasonalized  \\\n",
       "0    1958      3     1958.2027           315.70          314.43   \n",
       "1    1958      4     1958.2877           317.45          315.16   \n",
       "2    1958      5     1958.3699           317.51          314.71   \n",
       "3    1958      6     1958.4548           317.24          315.14   \n",
       "4    1958      7     1958.5370           315.86          315.18   \n",
       "..    ...    ...           ...              ...             ...   \n",
       "761  2021      8     2021.6250           414.47          416.49   \n",
       "762  2021      9     2021.7083           413.30          416.90   \n",
       "763  2021     10     2021.7917           413.93          417.31   \n",
       "764  2021     11     2021.8750           415.01          417.06   \n",
       "765  2021     12     2021.9583           416.71          417.41   \n",
       "\n",
       "     number_of_days   std  uncertainty  \n",
       "0                -1 -9.99        -0.99  \n",
       "1                -1 -9.99        -0.99  \n",
       "2                -1 -9.99        -0.99  \n",
       "3                -1 -9.99        -0.99  \n",
       "4                -1 -9.99        -0.99  \n",
       "..              ...   ...          ...  \n",
       "761              26  0.72         0.27  \n",
       "762              27  0.29         0.11  \n",
       "763              29  0.35         0.12  \n",
       "764              30  0.36         0.13  \n",
       "765              28  0.49         0.18  \n",
       "\n",
       "[766 rows x 8 columns]"
      ]
     },
     "execution_count": 3,
     "metadata": {},
     "output_type": "execute_result"
    }
   ],
   "source": [
    "data = pd.read_csv(\n",
    "    fname, \n",
    "    comment=\"#\", \n",
    "    delim_whitespace=True, \n",
    "    names=\"year month year_decimal monthly_average deseasonalized number_of_days std uncertainty\".split(),\n",
    ")\n",
    "data"
   ]
  },
  {
   "cell_type": "markdown",
   "id": "734d7a59-e28b-4715-b2b0-172f01a9c8b2",
   "metadata": {},
   "source": [
    "## Plot the data \n",
    "\n",
    "Make a quick plot to make sure the data look OK. This plot will be used as a preview of the dataset."
   ]
  },
  {
   "cell_type": "code",
   "execution_count": 4,
   "id": "4815b27b-446e-403f-b17c-2953456c6267",
   "metadata": {},
   "outputs": [
    {
     "data": {
      "image/png": "[encoded data removed]",
      "text/plain": [
       "<Figure size 432x288 with 1 Axes>"
      ]
     },
     "metadata": {
      "needs_background": "light"
     },
     "output_type": "display_data"
    }
   ],
   "source": [
    "plt.figure()\n",
    "plt.plot(data.year_decimal, data.monthly_average)\n",
    "plt.grid()\n",
    "plt.xlabel(\"Year\")\n",
    "plt.ylabel(\"Monthly mean CO2 at Mauna Loa\")\n",
    "plt.savefig(\"preview.jpg\")\n",
    "plt.show()"
   ]
  },
  {
   "cell_type": "markdown",
   "id": "96c3c776-f2fd-4c46-b766-8b1f603830ca",
   "metadata": {},
   "source": [
    "## Export\n",
    "\n",
    "Make a separate DataFrame to export to a compressed CSV. The conversion is needed to specify the number of significant digits to preserve in the output. Setting this along with the LZMA compression can help reduce the file size considerably. Not all fields in the original data need to be exported."
   ]
  },
  {
   "cell_type": "code",
   "execution_count": 5,
   "id": "4ed3c9b0-b01d-4bd3-b1ce-74917628f965",
   "metadata": {},
   "outputs": [
    {
     "data": {
      "text/html": [
       "<div>\n",
       "<style scoped>\n",
       "    .dataframe tbody tr th:only-of-type {\n",
       "        vertical-align: middle;\n",
       "    }\n",
       "\n",
       "    .dataframe tbody tr th {\n",
       "        vertical-align: top;\n",
       "    }\n",
       "\n",
       "    .dataframe thead th {\n",
       "        text-align: right;\n",
       "    }\n",
       "</style>\n",
       "<table border=\"1\" class=\"dataframe\">\n",
       "  <thead>\n",
       "    <tr style=\"text-align: right;\">\n",
       "      <th></th>\n",
       "      <th>year_decimal</th>\n",
       "      <th>monthly_average</th>\n",
       "    </tr>\n",
       "  </thead>\n",
       "  <tbody>\n",
       "    <tr>\n",
       "      <th>0</th>\n",
       "      <td>1958.2027</td>\n",
       "      <td>315.70</td>\n",
       "    </tr>\n",
       "    <tr>\n",
       "      <th>1</th>\n",
       "      <td>1958.2877</td>\n",
       "      <td>317.45</td>\n",
       "    </tr>\n",
       "    <tr>\n",
       "      <th>2</th>\n",
       "      <td>1958.3699</td>\n",
       "      <td>317.51</td>\n",
       "    </tr>\n",
       "    <tr>\n",
       "      <th>3</th>\n",
       "      <td>1958.4548</td>\n",
       "      <td>317.24</td>\n",
       "    </tr>\n",
       "    <tr>\n",
       "      <th>4</th>\n",
       "      <td>1958.5370</td>\n",
       "      <td>315.86</td>\n",
       "    </tr>\n",
       "    <tr>\n",
       "      <th>...</th>\n",
       "      <td>...</td>\n",
       "      <td>...</td>\n",
       "    </tr>\n",
       "    <tr>\n",
       "      <th>761</th>\n",
       "      <td>2021.6250</td>\n",
       "      <td>414.47</td>\n",
       "    </tr>\n",
       "    <tr>\n",
       "      <th>762</th>\n",
       "      <td>2021.7083</td>\n",
       "      <td>413.30</td>\n",
       "    </tr>\n",
       "    <tr>\n",
       "      <th>763</th>\n",
       "      <td>2021.7917</td>\n",
       "      <td>413.93</td>\n",
       "    </tr>\n",
       "    <tr>\n",
       "      <th>764</th>\n",
       "      <td>2021.8750</td>\n",
       "      <td>415.01</td>\n",
       "    </tr>\n",
       "    <tr>\n",
       "      <th>765</th>\n",
       "      <td>2021.9583</td>\n",
       "      <td>416.71</td>\n",
       "    </tr>\n",
       "  </tbody>\n",
       "</table>\n",
       "<p>766 rows × 2 columns</p>\n",
       "</div>"
      ],
      "text/plain": [
       "    year_decimal monthly_average\n",
       "0      1958.2027          315.70\n",
       "1      1958.2877          317.45\n",
       "2      1958.3699          317.51\n",
       "3      1958.4548          317.24\n",
       "4      1958.5370          315.86\n",
       "..           ...             ...\n",
       "761    2021.6250          414.47\n",
       "762    2021.7083          413.30\n",
       "763    2021.7917          413.93\n",
       "764    2021.8750          415.01\n",
       "765    2021.9583          416.71\n",
       "\n",
       "[766 rows x 2 columns]"
      ]
     },
     "execution_count": 5,
     "metadata": {},
     "output_type": "execute_result"
    }
   ],
   "source": [
    "export = pd.DataFrame({\n",
    "    \"year_decimal\": data.year_decimal.map(lambda x: \"{:.4f}\".format(x)),\n",
    "    \"monthly_average\": data.monthly_average.map(lambda x: \"{:.2f}\".format(x)),   \n",
    "})\n",
    "export"
   ]
  },
  {
   "cell_type": "markdown",
   "id": "076f9f82-87ea-4f09-b6ed-ce83d42ec1bd",
   "metadata": {},
   "source": [
    "Save the data to a file and calculate the size and MD5/SHA256 hashes."
   ]
  },
  {
   "cell_type": "code",
   "execution_count": 6,
   "id": "a01a57c3-4e6c-4ebd-b82e-5ea9eb66441b",
   "metadata": {},
   "outputs": [
    {
     "name": "stdout",
     "output_type": "stream",
     "text": [
      "file: mauna-loa-co2.csv.xz\n",
      "size: 0.002132 Mb\n",
      "md5:7095047376c4983cca627e52aa5b28de\n",
      "sha256:10fa809c3d2e27764543298b3677a727ac833b15c5ba1830e481e5df9a341d78\n"
     ]
    }
   ],
   "source": [
    "output = \"mauna-loa-co2.csv.xz\"\n",
    "export.to_csv(output, index=False)\n",
    "print(f\"file: {output}\")\n",
    "print(f\"size: {os.path.getsize(output) / 1e6} Mb\")\n",
    "for alg in [\"md5\", \"sha256\"]:\n",
    "    print(f\"{alg}:{pooch.file_hash(output, alg=alg)}\")"
   ]
  },
  {
   "cell_type": "markdown",
   "id": "439cf21c-1e2f-4e52-ada8-728e1fdbe033",
   "metadata": {},
   "source": [
    "## Read back the data and plot it\n",
    "\n",
    "Verify that the output didn't corrupt anything."
   ]
  },
  {
   "cell_type": "code",
   "execution_count": 7,
   "id": "d79d82e0-8806-4dd2-89af-a1d34da8a897",
   "metadata": {},
   "outputs": [
    {
     "data": {
      "text/html": [
       "<div>\n",
       "<style scoped>\n",
       "    .dataframe tbody tr th:only-of-type {\n",
       "        vertical-align: middle;\n",
       "    }\n",
       "\n",
       "    .dataframe tbody tr th {\n",
       "        vertical-align: top;\n",
       "    }\n",
       "\n",
       "    .dataframe thead th {\n",
       "        text-align: right;\n",
       "    }\n",
       "</style>\n",
       "<table border=\"1\" class=\"dataframe\">\n",
       "  <thead>\n",
       "    <tr style=\"text-align: right;\">\n",
       "      <th></th>\n",
       "      <th>year_decimal</th>\n",
       "      <th>monthly_average</th>\n",
       "    </tr>\n",
       "  </thead>\n",
       "  <tbody>\n",
       "    <tr>\n",
       "      <th>0</th>\n",
       "      <td>1958.2027</td>\n",
       "      <td>315.70</td>\n",
       "    </tr>\n",
       "    <tr>\n",
       "      <th>1</th>\n",
       "      <td>1958.2877</td>\n",
       "      <td>317.45</td>\n",
       "    </tr>\n",
       "    <tr>\n",
       "      <th>2</th>\n",
       "      <td>1958.3699</td>\n",
       "      <td>317.51</td>\n",
       "    </tr>\n",
       "    <tr>\n",
       "      <th>3</th>\n",
       "      <td>1958.4548</td>\n",
       "      <td>317.24</td>\n",
       "    </tr>\n",
       "    <tr>\n",
       "      <th>4</th>\n",
       "      <td>1958.5370</td>\n",
       "      <td>315.86</td>\n",
       "    </tr>\n",
       "    <tr>\n",
       "      <th>...</th>\n",
       "      <td>...</td>\n",
       "      <td>...</td>\n",
       "    </tr>\n",
       "    <tr>\n",
       "      <th>761</th>\n",
       "      <td>2021.6250</td>\n",
       "      <td>414.47</td>\n",
       "    </tr>\n",
       "    <tr>\n",
       "      <th>762</th>\n",
       "      <td>2021.7083</td>\n",
       "      <td>413.30</td>\n",
       "    </tr>\n",
       "    <tr>\n",
       "      <th>763</th>\n",
       "      <td>2021.7917</td>\n",
       "      <td>413.93</td>\n",
       "    </tr>\n",
       "    <tr>\n",
       "      <th>764</th>\n",
       "      <td>2021.8750</td>\n",
       "      <td>415.01</td>\n",
       "    </tr>\n",
       "    <tr>\n",
       "      <th>765</th>\n",
       "      <td>2021.9583</td>\n",
       "      <td>416.71</td>\n",
       "    </tr>\n",
       "  </tbody>\n",
       "</table>\n",
       "<p>766 rows × 2 columns</p>\n",
       "</div>"
      ],
      "text/plain": [
       "     year_decimal  monthly_average\n",
       "0       1958.2027           315.70\n",
       "1       1958.2877           317.45\n",
       "2       1958.3699           317.51\n",
       "3       1958.4548           317.24\n",
       "4       1958.5370           315.86\n",
       "..            ...              ...\n",
       "761     2021.6250           414.47\n",
       "762     2021.7083           413.30\n",
       "763     2021.7917           413.93\n",
       "764     2021.8750           415.01\n",
       "765     2021.9583           416.71\n",
       "\n",
       "[766 rows x 2 columns]"
      ]
     },
     "execution_count": 7,
     "metadata": {},
     "output_type": "execute_result"
    }
   ],
   "source": [
    "data_reloaded = pd.read_csv(output)\n",
    "data_reloaded"
   ]
  },
  {
   "cell_type": "markdown",
   "id": "2f337568-872a-4c48-a1a6-35e718bfe0d2",
   "metadata": {},
   "source": [
    "Make the figure again but don't save it to a file this time."
   ]
  },
  {
   "cell_type": "code",
   "execution_count": 8,
   "id": "5c075af8-6630-4785-97c9-01c6f0032e1b",
   "metadata": {},
   "outputs": [
    {
     "data": {
      "image/png": "[encoded data removed]",
      "text/plain": [
       "<Figure size 432x288 with 1 Axes>"
      ]
     },
     "metadata": {
      "needs_background": "light"
     },
     "output_type": "display_data"
    }
   ],
   "source": [
    "plt.figure()\n",
    "plt.plot(data_reloaded.year_decimal, data_reloaded.monthly_average)\n",
    "plt.grid()\n",
    "plt.xlabel(\"Year\")\n",
    "plt.ylabel(\"Monthly mean CO2 at Mauna Loa\")\n",
    "plt.show()"
   ]
  }
 ],
 "metadata": {
  "kernelspec": {
   "display_name": "Python [conda env:fatiando-data-CHANGEME]",
   "language": "python",
   "name": "conda-env-fatiando-data-CHANGEME-py"
  },
  "language_info": {
   "codemirror_mode": {
    "name": "ipython",
    "version": 3
   },
   "file_extension": ".py",
   "mimetype": "text/x-python",
   "name": "python",
   "nbconvert_exporter": "python",
   "pygments_lexer": "ipython3",
   "version": "3.9.0"
  }
 },
 "nbformat": 4,
 "nbformat_minor": 5
}
